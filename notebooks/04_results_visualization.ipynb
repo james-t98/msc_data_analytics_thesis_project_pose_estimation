{
  "cells": [
    {
      "cell_type": "markdown",
      "metadata": {},
      "source": [
        "# Results Visualization\n\nPlots: training curves, similarity vs predicted similarity, PCA clustering, summary tables."
      ]
    }
  ],
  "metadata": {},
  "nbformat": 4,
  "nbformat_minor": 2
}