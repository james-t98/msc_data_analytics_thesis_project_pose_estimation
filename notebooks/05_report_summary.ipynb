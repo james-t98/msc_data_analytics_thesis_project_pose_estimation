{
  "cells": [
    {
      "cell_type": "markdown",
      "metadata": {},
      "source": [
        "# Report Summary\n\nNotebook to generate summary markdown and embed screenshots, metrics tables, and key visuals."
      ]
    }
  ],
  "metadata": {},
  "nbformat": 4,
  "nbformat_minor": 2
}